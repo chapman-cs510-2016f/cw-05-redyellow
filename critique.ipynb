{
 "cells": [
  {
   "cell_type": "markdown",
   "metadata": {
    "collapsed": false
   },
   "source": [
    "# Critique for Classwork 05"
   ]
  },
  {
   "cell_type": "markdown",
   "metadata": {},
   "source": [
    "**Reviewer(Helen):**\n",
    "\n",
    "The prime.py is clear, have basic comments, and origanized well. However, I really suggest to put function gen_eratosthenes() into another file. because it does the same thing of function gen_ints() and eratosthenes(). Other test functions test_primes(), test_primes_negNum(), and test_primes_char() should be put into other test.py file too.\n",
    "\n",
    "The Jupyter file cw04-primes.ipynb tells great information about the mathmatics, The Sieve of Eratosthenes, and compared the time comsumming of diffrent ways, gen_eratosthenes() and eratosthenes(). That's really great. But the reason why the number is big the gen_eratosthenes() is faster is not clear. It needs to know more about the generator and data structure. \n",
    "\n"
   ]
  },
  {
   "cell_type": "code",
   "execution_count": null,
   "metadata": {
    "collapsed": true
   },
   "outputs": [],
   "source": []
  }
 ],
 "metadata": {
  "kernelspec": {
   "display_name": "Python 2 (SageMath)",
   "language": "python",
   "name": "python2"
  },
  "language_info": {
   "codemirror_mode": {
    "name": "ipython",
    "version": 2
   },
   "file_extension": ".py",
   "mimetype": "text/x-python",
   "name": "python",
   "nbconvert_exporter": "python",
   "pygments_lexer": "ipython2",
   "version": "2.7.10"
  }
 },
 "nbformat": 4,
 "nbformat_minor": 0
}
