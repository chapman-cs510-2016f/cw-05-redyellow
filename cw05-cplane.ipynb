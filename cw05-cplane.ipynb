{
 "cells": [
  {
   "cell_type": "markdown",
   "metadata": {
    "collapsed": false
   },
   "source": [
    "# Introduce"
   ]
  },
  {
   "cell_type": "markdown",
   "metadata": {},
   "source": [
    "In the class we discussed about what is class and what is object. Class is the abstract class of our real-world objects, which including a bounch of attributes and methods. Object is the instance of class. It could represent the object in the real-world. Class has hierarchy, which means a sub-class(son-class) can inherit all the attributes and methods from it's base class(father-class). \n",
    "\n",
    "For example: ComplexPlane is a class, which is an abstract class of the plane, and it inherit from the base class AbsComplexPlane. In this class, it includes attributes like xmin, xmax, xlen, ymin, ymax, ylen, plane, and function f. All of the value of these attributes are differents, which depends on the object. Besides, it includes methods like refresh(), zoom(), and set_f(), which use these attributes to do operations, like refresh() is draw a plane, zoom() reset attributors, set_f() reset function. \n"
   ]
  },
  {
   "cell_type": "markdown",
   "metadata": {},
   "source": [
    "# implementation"
   ]
  },
  {
   "cell_type": "code",
   "execution_count": 3,
   "metadata": {
    "collapsed": false
   },
   "outputs": [
    {
     "name": "stdout",
     "output_type": "stream",
     "text": [
      "[[(1+1j), (2+1j), (3+1j)], [(1+2j), (2+2j), (3+2j)]]\n"
     ]
    }
   ],
   "source": [
    "from cplane import ComplexPlane;\n",
    "\n",
    "p1=ComplexPlane(1,3,3,1,2,2)  # define an objects and set its attributors.\n",
    "p1.refresh()    # call refresh() method to create a plane.\n",
    "\n",
    "#[[(1+1j), (2+1j), (3+1j)], [(1+2j), (2+2j), (3+2j)]]  means 6 points in the plane:(1,1) (2,1) (3,1) (1,2) (2,2) (3,2)"
   ]
  },
  {
   "cell_type": "code",
   "execution_count": 4,
   "metadata": {
    "collapsed": false
   },
   "outputs": [
    {
     "name": "stdout",
     "output_type": "stream",
     "text": [
      "[[2j, (1+2j), (2+2j)], [3j, (1+3j), (2+3j)]]\n"
     ]
    }
   ],
   "source": [
    "p1.zoom(0,2,3,2,3,2)  # reset the values of xmin=0, xmax=2, xlen=3, ymin=2, ymax=3 ylen=2\n",
    "\n",
    "# [[2j, (1+2j), (2+2j)], [3j, (1+3j), (2+3j)]] means 6 new points in the plane: (0,2) (1,2) (2,2) (0,3) (1,3) (2,3)"
   ]
  },
  {
   "cell_type": "code",
   "execution_count": 8,
   "metadata": {
    "collapsed": false
   },
   "outputs": [
    {
     "name": "stdout",
     "output_type": "stream",
     "text": [
      "[[(2+2j), (3+2j), (4+2j)], [(2+3j), (3+3j), (4+3j)]]\n"
     ]
    },
    {
     "data": {
      "text/plain": [
       "0"
      ]
     },
     "execution_count": 8,
     "metadata": {},
     "output_type": "execute_result"
    }
   ],
   "source": [
    "p1.set_f(lambda x: x+2)   # reset the function x to x+2, which means move the plane 2 units along the x-axis.\n",
    "\n",
    "# [[(2+2j), (3+2j), (4+2j)], [(2+3j), (3+3j), (4+3j)]] means points: (2,2) (3,2) (4,2) (2,3) (3,3) (3,4)"
   ]
  },
  {
   "cell_type": "markdown",
   "metadata": {},
   "source": [
    "# Code"
   ]
  },
  {
   "cell_type": "markdown",
   "metadata": {},
   "source": [
    "**Define class:**\n",
    "\n",
    "```ruby\n",
    "#!/usr/bin/env python3\n",
    " \n",
    "from abscplane import AbsComplexPlane  \n",
    " \n",
    "class ComplexPlane(AbsComplexPlane):  # inherit from class AbsComplexPlane\n",
    "    ...\n",
    "```\n",
    "\n",
    "\n",
    "**Define attributes:**\n",
    "```ruby\n",
    "def __init__(self, xmin, xmax, xlen, ymin, ymax, ylen):\n",
    "    \"\"\"\n",
    "    Attributes:\n",
    "    xmax (float) : maximum horizontal axis value\n",
    "    xmin (float) : minimum horizontal axis value\n",
    "    xlen (int)   : number of horizontal points\n",
    "    ymax (float) : maximum vertical axis value\n",
    "    ymin (float) : minimum vertical axis value\n",
    "    ylen (int)   : number of vertical points\n",
    "    plane        : stored complex plane implementation\n",
    "    f    (func)  : function displayed in the plane\n",
    "    \"\"\"\n",
    "    self.xmin = xmin\n",
    "    self.xmax = xmax\n",
    "    self.xlen = xlen\n",
    "    self.ymin = ymin\n",
    "    self.ymax = ymax\n",
    "    self.ylen = ylen\n",
    "    self.plane = []\n",
    "    self.f=lambda x: x\n",
    "```\n",
    "\n",
    "\n",
    "\n",
    "**Define methods(functions):**\n",
    "\n",
    "\n",
    "Produce a plane:\n",
    "```ruby\n",
    "def refresh(self):\n",
    "        \"\"\"\n",
    "    Regenerate complex plane.\n",
    "    For every point (x + y*1j) in self.plane, replace\n",
    "    the point with the value self.f(x + y*1j). \n",
    "        \"\"\"\n",
    "        self.plane = []\n",
    "        for y in range(0, self.ylen):\n",
    "            row = []\n",
    "            for x in range(0, self.xlen):\n",
    "                X=self.xmin+x\n",
    "                Y=self.ymin+y\n",
    "                row.append(self.f(X + Y*1j))\n",
    "            self.plane.append(row)\n",
    "        print(self.plane)\n",
    "```\n",
    "\n",
    "Reset an object's attributes:\n",
    "```ruby\n",
    "def zoom(self,xmin,xmax,xlen,ymin,ymax,ylen):\n",
    "        \"\"\"\n",
    "    Reset self.xmin, self.xmax, and/or self.xlen.\n",
    "    Also reset self.ymin, self.ymax, and/or self.ylen.\n",
    "    Zoom into the indicated range of the x- and y-axes.\n",
    "    Refresh the plane as needed.\n",
    "        \"\"\"\n",
    "        self.xmin = xmin\n",
    "        self.xmax = xmax\n",
    "        self.xlen = xlen\n",
    "        self.ymin = ymin\n",
    "        self.ymax = ymax\n",
    "        self.ylen = ylen\n",
    " \n",
    "        self.refresh()\n",
    "```\n",
    "\n",
    "Reset the function:\n",
    "```ruby\n",
    "def set_f(self,f):\n",
    "        \"\"\"\n",
    "    Reset the transformation function f.\n",
    "    Refresh the plane as needed.\n",
    "        \"\"\"\n",
    "        self.f = f\n",
    "        self.refresh()\n",
    "        return 0\n",
    "```"
   ]
  },
  {
   "cell_type": "markdown",
   "metadata": {},
   "source": [
    "# Why abstract class useful?"
   ]
  },
  {
   "cell_type": "markdown",
   "metadata": {},
   "source": [
    "**Advantage:**\n",
    "1. Efficiency: once an abstract class defined, it can be used to define thousands of objects, which has same attributes and methods, but different values. For example, you defined a human-being class, that you can produce thousands of people. \n",
    "\n",
    "2. Heredity: a subclass can inherit all attributors and methods from its base class, and it can create its own attributors and methods. In this way, we can simulate the heredity of our real-world. \n",
    "\n",
    "So abstract class is not only save lots of code and time for programmers make our programming more efficient, but also make programming more close to  the thoughts of human-beings not machine. \n",
    "\n",
    "\n",
    "**Disadvantage:**\n",
    "\n",
    "For some programming language, like C++, java, c#, it takes more time to interpret and compile. "
   ]
  },
  {
   "cell_type": "code",
   "execution_count": null,
   "metadata": {
    "collapsed": true
   },
   "outputs": [],
   "source": []
  }
 ],
 "metadata": {
  "kernelspec": {
   "display_name": "Anaconda (Python 3)",
   "language": "python",
   "name": "anaconda3"
  },
  "language_info": {
   "codemirror_mode": {
    "name": "ipython",
    "version": 3
   },
   "file_extension": ".py",
   "mimetype": "text/x-python",
   "name": "python",
   "nbconvert_exporter": "python",
   "pygments_lexer": "ipython3",
   "version": "3.5.2"
  }
 },
 "nbformat": 4,
 "nbformat_minor": 0
}
